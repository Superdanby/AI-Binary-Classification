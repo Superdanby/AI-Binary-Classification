{
 "cells": [
  {
   "cell_type": "code",
   "execution_count": 1,
   "metadata": {},
   "outputs": [],
   "source": [
    "import numpy as np\n",
    "import pandas as pd\n",
    "\n",
    "import matplotlib.pyplot as plt\n",
    "\n",
    "from sklearn import svm\n",
    "from sklearn import metrics\n",
    "from sklearn import preprocessing\n",
    "from sklearn.preprocessing import LabelEncoder\n",
    "from sklearn.preprocessing import StandardScaler\n",
    "from sklearn.metrics import accuracy_score\n",
    "from sklearn.metrics import confusion_matrix\n",
    "from sklearn.metrics import classification_report\n",
    "from sklearn.model_selection import train_test_split\n",
    "from sklearn.linear_model import Perceptron\n",
    "from sklearn.linear_model import SGDClassifier\n",
    "from sklearn.tree import DecisionTreeClassifier\n",
    "from sklearn.model_selection import GridSearchCV\n",
    "from sklearn.neighbors import KNeighborsClassifier\n",
    "from sklearn.ensemble import RandomForestClassifier\n",
    "from sklearn.kernel_approximation import RBFSampler"
   ]
  },
  {
   "cell_type": "code",
   "execution_count": 2,
   "metadata": {},
   "outputs": [
    {
     "name": "stdout",
     "output_type": "stream",
     "text": [
      "(961457, 8)\n"
     ]
    },
    {
     "data": {
      "text/html": [
       "<div>\n",
       "<style scoped>\n",
       "    .dataframe tbody tr th:only-of-type {\n",
       "        vertical-align: middle;\n",
       "    }\n",
       "\n",
       "    .dataframe tbody tr th {\n",
       "        vertical-align: top;\n",
       "    }\n",
       "\n",
       "    .dataframe thead th {\n",
       "        text-align: right;\n",
       "    }\n",
       "</style>\n",
       "<table border=\"1\" class=\"dataframe\">\n",
       "  <thead>\n",
       "    <tr style=\"text-align: right;\">\n",
       "      <th></th>\n",
       "      <th>adx</th>\n",
       "      <th>spaceType</th>\n",
       "      <th>spaceCat</th>\n",
       "      <th>adType</th>\n",
       "      <th>os</th>\n",
       "      <th>publisherId</th>\n",
       "      <th>advertiserId</th>\n",
       "      <th>click</th>\n",
       "    </tr>\n",
       "  </thead>\n",
       "  <tbody>\n",
       "    <tr>\n",
       "      <th>0</th>\n",
       "      <td>oN9K9JVNmtH69Q1KBbhHUtZ34mw/vdefue3wgNg/kWU=</td>\n",
       "      <td>site</td>\n",
       "      <td>IAB12</td>\n",
       "      <td>[3,9]</td>\n",
       "      <td>Android</td>\n",
       "      <td>5ad6008850</td>\n",
       "      <td>266</td>\n",
       "      <td>0</td>\n",
       "    </tr>\n",
       "    <tr>\n",
       "      <th>1</th>\n",
       "      <td>oN9K9JVNmtH69Q1KBbhHUtZ34mw/vdefue3wgNg/kWU=</td>\n",
       "      <td>site</td>\n",
       "      <td>IAB14_1</td>\n",
       "      <td>[3,9]</td>\n",
       "      <td>Android</td>\n",
       "      <td>ca10720d22</td>\n",
       "      <td>215</td>\n",
       "      <td>0</td>\n",
       "    </tr>\n",
       "    <tr>\n",
       "      <th>2</th>\n",
       "      <td>oN9K9JVNmtH69Q1KBbhHUtZ34mw/vdefue3wgNg/kWU=</td>\n",
       "      <td>site</td>\n",
       "      <td>IAB12</td>\n",
       "      <td>[3,9]</td>\n",
       "      <td>Android</td>\n",
       "      <td>adcfa8aac4</td>\n",
       "      <td>215</td>\n",
       "      <td>0</td>\n",
       "    </tr>\n",
       "    <tr>\n",
       "      <th>3</th>\n",
       "      <td>oN9K9JVNmtH69Q1KBbhHUtZ34mw/vdefue3wgNg/kWU=</td>\n",
       "      <td>site</td>\n",
       "      <td>IAB12</td>\n",
       "      <td>[3,9]</td>\n",
       "      <td>Windows</td>\n",
       "      <td>de184afdf3</td>\n",
       "      <td>173</td>\n",
       "      <td>0</td>\n",
       "    </tr>\n",
       "    <tr>\n",
       "      <th>4</th>\n",
       "      <td>oN9K9JVNmtH69Q1KBbhHUtZ34mw/vdefue3wgNg/kWU=</td>\n",
       "      <td>site</td>\n",
       "      <td>IAB12</td>\n",
       "      <td>[3,9]</td>\n",
       "      <td>Android</td>\n",
       "      <td>5ad6008850</td>\n",
       "      <td>266</td>\n",
       "      <td>0</td>\n",
       "    </tr>\n",
       "  </tbody>\n",
       "</table>\n",
       "</div>"
      ],
      "text/plain": [
       "                                            adx spaceType spaceCat adType  \\\n",
       "0  oN9K9JVNmtH69Q1KBbhHUtZ34mw/vdefue3wgNg/kWU=      site    IAB12  [3,9]   \n",
       "1  oN9K9JVNmtH69Q1KBbhHUtZ34mw/vdefue3wgNg/kWU=      site  IAB14_1  [3,9]   \n",
       "2  oN9K9JVNmtH69Q1KBbhHUtZ34mw/vdefue3wgNg/kWU=      site    IAB12  [3,9]   \n",
       "3  oN9K9JVNmtH69Q1KBbhHUtZ34mw/vdefue3wgNg/kWU=      site    IAB12  [3,9]   \n",
       "4  oN9K9JVNmtH69Q1KBbhHUtZ34mw/vdefue3wgNg/kWU=      site    IAB12  [3,9]   \n",
       "\n",
       "        os publisherId  advertiserId  click  \n",
       "0  Android  5ad6008850           266      0  \n",
       "1  Android  ca10720d22           215      0  \n",
       "2  Android  adcfa8aac4           215      0  \n",
       "3  Windows  de184afdf3           173      0  \n",
       "4  Android  5ad6008850           266      0  "
      ]
     },
     "execution_count": 2,
     "metadata": {},
     "output_type": "execute_result"
    }
   ],
   "source": [
    "traindata = pd.read_csv(\"./TraData.csv\", low_memory=False)\n",
    "\n",
    "# remove the meaningless feature\n",
    "traindata = traindata.drop(['dclkVerticals', 'ip', 'spaceId', 'deviceType', 'campaignId'], axis = 1).loc[:,:]\n",
    "\n",
    "# replace null value to other data~~\n",
    "traindata = traindata.fillna({'spaceCat': 'TEST'})\n",
    "\n",
    "print(traindata.shape)\n",
    "traindata.head()"
   ]
  },
  {
   "cell_type": "code",
   "execution_count": 3,
   "metadata": {},
   "outputs": [
    {
     "data": {
      "text/html": [
       "<div>\n",
       "<style scoped>\n",
       "    .dataframe tbody tr th:only-of-type {\n",
       "        vertical-align: middle;\n",
       "    }\n",
       "\n",
       "    .dataframe tbody tr th {\n",
       "        vertical-align: top;\n",
       "    }\n",
       "\n",
       "    .dataframe thead th {\n",
       "        text-align: right;\n",
       "    }\n",
       "</style>\n",
       "<table border=\"1\" class=\"dataframe\">\n",
       "  <thead>\n",
       "    <tr style=\"text-align: right;\">\n",
       "      <th></th>\n",
       "      <th>adx</th>\n",
       "      <th>spaceType</th>\n",
       "      <th>spaceCat</th>\n",
       "      <th>adType</th>\n",
       "      <th>os</th>\n",
       "      <th>publisherId</th>\n",
       "      <th>advertiserId</th>\n",
       "      <th>click</th>\n",
       "    </tr>\n",
       "  </thead>\n",
       "  <tbody>\n",
       "  </tbody>\n",
       "</table>\n",
       "</div>"
      ],
      "text/plain": [
       "Empty DataFrame\n",
       "Columns: [adx, spaceType, spaceCat, adType, os, publisherId, advertiserId, click]\n",
       "Index: []"
      ]
     },
     "execution_count": 3,
     "metadata": {},
     "output_type": "execute_result"
    }
   ],
   "source": [
    "# Check null value\n",
    "traindata[traindata.isnull().any(axis=1)].head()"
   ]
  },
  {
   "cell_type": "code",
   "execution_count": 4,
   "metadata": {},
   "outputs": [
    {
     "data": {
      "text/plain": [
       "array([[1, 1, 3, ..., 0, 29, 15],\n",
       "       [1, 1, 5, ..., 0, 55, 7],\n",
       "       [1, 1, 3, ..., 0, 46, 7],\n",
       "       ..., \n",
       "       [1, 1, 3, ..., 5, 48, 15],\n",
       "       [1, 1, 5, ..., 0, 55, 3],\n",
       "       [1, 1, 5, ..., 8, 55, 3]], dtype=object)"
      ]
     },
     "metadata": {},
     "output_type": "display_data"
    }
   ],
   "source": [
    "x = np.array(traindata.iloc[:, 0:7])\n",
    "y = np.array(traindata.iloc[:, 7])\n",
    "\n",
    "for i in range(0, 7):\n",
    "    labelEncoder = LabelEncoder()\n",
    "    x[:,i] = labelEncoder.fit_transform(x[:,i])\n",
    "display(x)"
   ]
  },
  {
   "cell_type": "code",
   "execution_count": 13,
   "metadata": {},
   "outputs": [],
   "source": [
    "# split the train and test data\n",
    "train_X, test_X, train_y, test_y = train_test_split(x, y, test_size = 0.2, random_state=42)"
   ]
  },
  {
   "cell_type": "code",
   "execution_count": 6,
   "metadata": {},
   "outputs": [],
   "source": [
    "#trans_data_X = pd.get_dummies(data_x, columns=list(data_x)[:-1])"
   ]
  },
  {
   "cell_type": "code",
   "execution_count": 18,
   "metadata": {},
   "outputs": [
    {
     "name": "stderr",
     "output_type": "stream",
     "text": [
      "c:\\users\\pionxzh\\appdata\\local\\programs\\python\\python36\\lib\\site-packages\\sklearn\\utils\\validation.py:475: DataConversionWarning: Data with input dtype object was converted to float64 by StandardScaler.\n",
      "  warnings.warn(msg, DataConversionWarning)\n"
     ]
    },
    {
     "data": {
      "text/plain": [
       "array([[ 0.03568091,  0.05742403, -0.39702735, ..., -1.08325137,\n",
       "        -0.49057641,  1.06627218],\n",
       "       [ 0.03568091,  0.05742403, -0.39702735, ...,  0.30552063,\n",
       "        -0.49057641, -0.56348567],\n",
       "       [ 0.03568091,  0.05742403, -0.01642878, ...,  1.13878383,\n",
       "         1.96653716, -0.56348567],\n",
       "       ..., \n",
       "       [ 0.03568091,  0.05742403,  3.0283598 , ..., -1.08325137,\n",
       "         0.92698911, -1.10673829],\n",
       "       [ 0.03568091,  0.05742403, -0.39702735, ...,  1.13878383,\n",
       "         2.43905899,  1.06627218],\n",
       "       [ 0.03568091,  0.05742403, -0.39702735, ..., -1.08325137,\n",
       "        -0.49057641,  1.06627218]])"
      ]
     },
     "metadata": {},
     "output_type": "display_data"
    }
   ],
   "source": [
    "# Standardization\n",
    "# 可以跑可以不跑~\n",
    "\n",
    "sc = StandardScaler()\n",
    "sc.fit(train_X)\n",
    "train_X = sc.transform(train_X)\n",
    "test_X = sc.transform(test_X)\n",
    "display(train_X)"
   ]
  },
  {
   "cell_type": "code",
   "execution_count": 11,
   "metadata": {},
   "outputs": [
    {
     "data": {
      "text/plain": [
       "DecisionTreeClassifier(class_weight=None, criterion='gini', max_depth=None,\n",
       "            max_features=None, max_leaf_nodes=None,\n",
       "            min_impurity_decrease=0.0, min_impurity_split=None,\n",
       "            min_samples_leaf=1, min_samples_split=2,\n",
       "            min_weight_fraction_leaf=0.0, presort=False, random_state=None,\n",
       "            splitter='best')"
      ]
     },
     "execution_count": 11,
     "metadata": {},
     "output_type": "execute_result"
    }
   ],
   "source": [
    "clf = DecisionTreeClassifier()\n",
    "clf.fit(train_X, train_y)"
   ]
  },
  {
   "cell_type": "code",
   "execution_count": 12,
   "metadata": {},
   "outputs": [
    {
     "name": "stdout",
     "output_type": "stream",
     "text": [
      "結果  :  0 / 192292\n",
      "準確率:  0.999381149502\n",
      "AUC:  0.5 \n",
      "\n",
      "             precision    recall  f1-score   support\n",
      "\n",
      "          0       1.00      1.00      1.00    192173\n",
      "          1       0.00      0.00      0.00       119\n",
      "\n",
      "avg / total       1.00      1.00      1.00    192292\n",
      "\n"
     ]
    },
    {
     "name": "stderr",
     "output_type": "stream",
     "text": [
      "c:\\users\\pionxzh\\appdata\\local\\programs\\python\\python36\\lib\\site-packages\\sklearn\\metrics\\classification.py:1135: UndefinedMetricWarning: Precision and F-score are ill-defined and being set to 0.0 in labels with no predicted samples.\n",
      "  'precision', 'predicted', average, warn_for)\n"
     ]
    }
   ],
   "source": [
    "test_y_predicted = clf.predict(test_X)\n",
    "accuracy = accuracy_score(test_y, test_y_predicted)\n",
    "print('結果  : ', np.count_nonzero(test_y_predicted), '/', len(test_y_predicted))\n",
    "print('準確率: ', accuracy)\n",
    "fpr, tpr, thresholds = metrics.roc_curve(test_y, test_y_predicted)\n",
    "auc = metrics.auc(fpr, tpr)\n",
    "print('AUC: ', auc, '\\n')\n",
    "print(classification_report(test_y, test_y_predicted))"
   ]
  },
  {
   "cell_type": "code",
   "execution_count": 16,
   "metadata": {},
   "outputs": [],
   "source": [
    "# output result\n",
    "#pd.Series(test_y_predicted).to_csv('out.csv', sep=',')"
   ]
  },
  {
   "cell_type": "code",
   "execution_count": 19,
   "metadata": {},
   "outputs": [
    {
     "data": {
      "text/plain": [
       "RandomForestClassifier(bootstrap=True, class_weight=None, criterion='gini',\n",
       "            max_depth=None, max_features='auto', max_leaf_nodes=None,\n",
       "            min_impurity_decrease=0.0, min_impurity_split=None,\n",
       "            min_samples_leaf=1, min_samples_split=2,\n",
       "            min_weight_fraction_leaf=0.0, n_estimators=100, n_jobs=1,\n",
       "            oob_score=False, random_state=None, verbose=0,\n",
       "            warm_start=False)"
      ]
     },
     "execution_count": 19,
     "metadata": {},
     "output_type": "execute_result"
    }
   ],
   "source": [
    "clf = RandomForestClassifier(n_estimators=100)\n",
    "clf.fit(train_X, train_y)"
   ]
  },
  {
   "cell_type": "code",
   "execution_count": 20,
   "metadata": {},
   "outputs": [
    {
     "name": "stdout",
     "output_type": "stream",
     "text": [
      "結果  :  0 / 192292\n",
      "準確率:  0.999381149502\n",
      "AUC:  0.5 \n",
      "\n",
      "             precision    recall  f1-score   support\n",
      "\n",
      "          0       1.00      1.00      1.00    192292\n",
      "          1       0.00      0.00      0.00         0\n",
      "\n",
      "avg / total       1.00      1.00      1.00    192292\n",
      "\n"
     ]
    },
    {
     "name": "stderr",
     "output_type": "stream",
     "text": [
      "c:\\users\\pionxzh\\appdata\\local\\programs\\python\\python36\\lib\\site-packages\\sklearn\\metrics\\classification.py:1137: UndefinedMetricWarning: Recall and F-score are ill-defined and being set to 0.0 in labels with no true samples.\n",
      "  'recall', 'true', average, warn_for)\n"
     ]
    }
   ],
   "source": [
    "test_y_predicted = clf.predict(test_X)\n",
    "accuracy = accuracy_score(test_y, test_y_predicted)\n",
    "print('結果  : ', np.count_nonzero(test_y_predicted), '/', len(test_y_predicted))\n",
    "print('準確率: ', accuracy)\n",
    "fpr, tpr, thresholds = metrics.roc_curve(test_y, test_y_predicted)\n",
    "auc = metrics.auc(fpr, tpr)\n",
    "print('AUC: ', auc, '\\n')\n",
    "print(classification_report(test_y_predicted, test_y))"
   ]
  },
  {
   "cell_type": "code",
   "execution_count": 21,
   "metadata": {},
   "outputs": [
    {
     "data": {
      "text/plain": [
       "KNeighborsClassifier(algorithm='auto', leaf_size=30, metric='minkowski',\n",
       "           metric_params=None, n_jobs=1, n_neighbors=5, p=2,\n",
       "           weights='uniform')"
      ]
     },
     "execution_count": 21,
     "metadata": {},
     "output_type": "execute_result"
    }
   ],
   "source": [
    "clf = KNeighborsClassifier(n_neighbors=2, n_jobs=-1)\n",
    "clf.fit(train_X, train_y)"
   ]
  },
  {
   "cell_type": "code",
   "execution_count": 22,
   "metadata": {},
   "outputs": [
    {
     "name": "stdout",
     "output_type": "stream",
     "text": [
      "結果  :  4 / 192292\n",
      "準確率:  0.999370748653\n",
      "AUC:  0.504193875205 \n",
      "\n",
      "             precision    recall  f1-score   support\n",
      "\n",
      "          0       1.00      1.00      1.00    192288\n",
      "          1       0.01      0.25      0.02         4\n",
      "\n",
      "avg / total       1.00      1.00      1.00    192292\n",
      "\n"
     ]
    }
   ],
   "source": [
    "test_y_predicted = clf.predict(test_X)\n",
    "accuracy = accuracy_score(test_y, test_y_predicted)\n",
    "print('結果  : ', np.count_nonzero(test_y_predicted), '/', len(test_y_predicted))\n",
    "print('準確率: ', accuracy)\n",
    "fpr, tpr, thresholds = metrics.roc_curve(test_y, test_y_predicted)\n",
    "auc = metrics.auc(fpr, tpr)\n",
    "print('AUC: ', auc, '\\n')\n",
    "print(classification_report(test_y_predicted, test_y))"
   ]
  },
  {
   "cell_type": "code",
   "execution_count": null,
   "metadata": {},
   "outputs": [],
   "source": [
    "clf = svm.SVC()\n",
    "clf.fit(train_X, train_y)"
   ]
  },
  {
   "cell_type": "code",
   "execution_count": null,
   "metadata": {},
   "outputs": [],
   "source": [
    "test_y_predicted = clf.predict(test_X)\n",
    "accuracy = accuracy_score(test_y, test_y_predicted)\n",
    "print('結果  : ', np.count_nonzero(test_y_predicted), '/', len(test_y_predicted))\n",
    "print('準確率: ', accuracy)\n",
    "fpr, tpr, thresholds = metrics.roc_curve(test_y, test_y_predicted)\n",
    "auc = metrics.auc(fpr, tpr)\n",
    "print('AUC: ', auc, '\\n')\n",
    "print(classification_report(test_y_predicted, test_y))"
   ]
  },
  {
   "cell_type": "code",
   "execution_count": null,
   "metadata": {},
   "outputs": [],
   "source": [
    "clf = SGDClassifier(tol=None, max_iter=10)\n",
    "clf.fit(train_X, train_y)"
   ]
  },
  {
   "cell_type": "code",
   "execution_count": null,
   "metadata": {},
   "outputs": [],
   "source": [
    "test_y_predicted = clf.predict(test_X)\n",
    "accuracy = accuracy_score(test_y, test_y_predicted)\n",
    "print('結果  : ', np.count_nonzero(test_y_predicted), '/', len(test_y_predicted))\n",
    "print('準確率: ', accuracy)\n",
    "fpr, tpr, thresholds = metrics.roc_curve(test_y, test_y_predicted)\n",
    "auc = metrics.auc(fpr, tpr)\n",
    "print('AUC: ', auc, '\\n')\n",
    "print(classification_report(test_y_predicted, test_y))"
   ]
  },
  {
   "cell_type": "code",
   "execution_count": null,
   "metadata": {},
   "outputs": [],
   "source": []
  }
 ],
 "metadata": {
  "kernelspec": {
   "display_name": "Python 3",
   "language": "python",
   "name": "python3"
  },
  "language_info": {
   "codemirror_mode": {
    "name": "ipython",
    "version": 3
   },
   "file_extension": ".py",
   "mimetype": "text/x-python",
   "name": "python",
   "nbconvert_exporter": "python",
   "pygments_lexer": "ipython3",
   "version": "3.6.3"
  }
 },
 "nbformat": 4,
 "nbformat_minor": 2
}
